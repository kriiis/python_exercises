{
 "cells": [
  {
   "cell_type": "markdown",
   "metadata": {},
   "source": [
    "# Lists and loops\n",
    "\n",
    "As we are to become Data Scientists, we are going to need objects that can store multiple elements. In Python, the list is one of the most useful ones. You can create a list with `[]`, and separating its elements with commas:"
   ]
  },
  {
   "cell_type": "code",
   "execution_count": 4,
   "metadata": {},
   "outputs": [],
   "source": [
    "weekdays = [\"Monday\", \"Tuesday\", \"Wednesday\", \"Thursday\", \"Friday\"]"
   ]
  },
  {
   "cell_type": "markdown",
   "metadata": {},
   "source": [
    "A list can also contain numbers:"
   ]
  },
  {
   "cell_type": "code",
   "execution_count": 6,
   "metadata": {},
   "outputs": [],
   "source": [
    "leap_years = [2000, 2004, 2008, 2012, 2016, 2020]"
   ]
  },
  {
   "cell_type": "markdown",
   "metadata": {},
   "source": [
    "You can create a list out of something else with `list()`:"
   ]
  },
  {
   "cell_type": "code",
   "execution_count": null,
   "metadata": {},
   "outputs": [],
   "source": [
    "list(\"WBSCS\")"
   ]
  },
  {
   "cell_type": "markdown",
   "metadata": {},
   "source": [
    "You can extract single or multiple values from a list by specifying their position inside of square brackets:"
   ]
  },
  {
   "cell_type": "code",
   "execution_count": 5,
   "metadata": {},
   "outputs": [
    {
     "data": {
      "text/plain": [
       "'Monday'"
      ]
     },
     "execution_count": 5,
     "metadata": {},
     "output_type": "execute_result"
    }
   ],
   "source": [
    "weekdays[0]"
   ]
  },
  {
   "cell_type": "code",
   "execution_count": 7,
   "metadata": {},
   "outputs": [
    {
     "data": {
      "text/plain": [
       "2020"
      ]
     },
     "execution_count": 7,
     "metadata": {},
     "output_type": "execute_result"
    }
   ],
   "source": [
    "leap_years[-1]"
   ]
  },
  {
   "cell_type": "code",
   "execution_count": 8,
   "metadata": {},
   "outputs": [
    {
     "data": {
      "text/plain": [
       "['Monday', 'Tuesday', 'Wednesday']"
      ]
     },
     "execution_count": 8,
     "metadata": {},
     "output_type": "execute_result"
    }
   ],
   "source": [
    "weekdays[0:3]"
   ]
  },
  {
   "cell_type": "markdown",
   "metadata": {},
   "source": [
    "One of the most useful functions we will use in combination with lists is `append()`: it just adds an element at the end of the list:"
   ]
  },
  {
   "cell_type": "code",
   "execution_count": 9,
   "metadata": {},
   "outputs": [
    {
     "name": "stdout",
     "output_type": "stream",
     "text": [
      "[2000, 2004, 2008, 2012, 2016, 2020, 2024]\n"
     ]
    }
   ],
   "source": [
    "leap_years.append(2024)\n",
    "print(leap_years)"
   ]
  },
  {
   "cell_type": "markdown",
   "metadata": {},
   "source": [
    "This is possible because lists, unlike strings or numbers, are mutable: you can change them without having to define them again."
   ]
  },
  {
   "cell_type": "markdown",
   "metadata": {},
   "source": [
    "The `insert()` function does the same, but at any specified position:"
   ]
  },
  {
   "cell_type": "code",
   "execution_count": 10,
   "metadata": {},
   "outputs": [
    {
     "name": "stdout",
     "output_type": "stream",
     "text": [
      "[1996, 2000, 2004, 2008, 2012, 2016, 2020, 2024]\n"
     ]
    }
   ],
   "source": [
    "leap_years.insert(0, 1996)\n",
    "print(leap_years)"
   ]
  },
  {
   "cell_type": "code",
   "execution_count": 11,
   "metadata": {},
   "outputs": [
    {
     "name": "stdout",
     "output_type": "stream",
     "text": [
      "[1996, 2000, 'Happy new millenia', 2004, 2008, 2012, 2016, 2020, 2024]\n"
     ]
    }
   ],
   "source": [
    "leap_years.insert(2, \"Happy new millenia\")\n",
    "print(leap_years)"
   ]
  },
  {
   "cell_type": "markdown",
   "metadata": {},
   "source": [
    "As you can see, lists support containing elements from different data types. They're heterogeneous.\n",
    "\n",
    "There are some other built-in methods that you can use to manipulate lists. Check them out here (https://www.w3schools.com/python/python_lists_methods.asp) and complete the following exercises:"
   ]
  },
  {
   "cell_type": "code",
   "execution_count": 2,
   "metadata": {},
   "outputs": [],
   "source": [
    "# some lists to work with\n",
    "car_brands = [\"BMW\", \"Volkswagen\", \"Mercedes\", \"Ford\", \"Apple\", \"Toyota\", \n",
    "              \"Tesla\", \"Kia\", \"Porsche\", \"Mazda\", \"Honda\", \"Jaguar\", \n",
    "              \"Mitsubishi\", \"Audi\", \"Bentley\", \"Bugatti\", \"Chrisler\"]\n",
    "\n",
    "fibonacci = [0, 1, 1, 2, 3, 5, 8, 13, 21, 34, 53, 89, 144]\n",
    "\n",
    "characters = [[\"Harry\", \"Hermoine\", \"Ron\"], \n",
    "              [\"Daenerys Targaryen\", \"Jon Snow\", \"Tyrion Lannister\", \n",
    "               \"Cercei Lannister\", \"Arya Stark\", \"Sansa Stark\"],\n",
    "              [\"Aragorn\", \"Gandalf\", \"Frodo\", \"Legolas\", \"Gollum\", \"Gimli\"],\n",
    "              [\"Walter White\", \"Jesse Pinkman\", \"Gus Fring\"]\n",
    "             ]\n",
    "\n",
    "sex_and_the_city = [\"Carrie\", \"Samantha\", \"Charlotte\", \"Miranda\"]\n",
    "\n",
    "numbers = [1, 51, 59, 2, 95, 25, 28, 67, 14, 63, 84, 33, 56, 31, 54, 97, 77, \n",
    "            98, 46, 84, 6, 66, 86, 77, 69, 19, 77, 7, 76, 19, 59, 77, 28, 34, \n",
    "            94, 4, 45, 95, 41, 66, 5, 38, 35, 57, 84, 38, 94, 65, 45, 80, 83, \n",
    "            22, 12, 100, 52, 55, 31, 69, 29, 67, 4, 39, 87, 49, 81, 82, 96, 4, \n",
    "            85, 62, 90, 72, 70, 26, 29, 63, 48, 94, 58, 9, 49, 79, 33, 63, 41, \n",
    "            13, 90, 37, 31, 3, 11, 54, 56, 72, 91, 97, 2, 83, 82, 6]"
   ]
  },
  {
   "cell_type": "markdown",
   "metadata": {},
   "source": [
    "1. Find out the position of \"Bugatti\" in the `car_brands` list (whether it is the 3rd element, the 5th...)."
   ]
  },
  {
   "cell_type": "code",
   "execution_count": 13,
   "metadata": {},
   "outputs": [
    {
     "name": "stdout",
     "output_type": "stream",
     "text": [
      "15\n"
     ]
    }
   ],
   "source": [
    "# code here\n",
    "print(car_brands.index(\"Bugatti\"))"
   ]
  },
  {
   "cell_type": "markdown",
   "metadata": {},
   "source": [
    "2. Remove \"Apple\" from the `car_brands` list."
   ]
  },
  {
   "cell_type": "code",
   "execution_count": 35,
   "metadata": {},
   "outputs": [
    {
     "name": "stdout",
     "output_type": "stream",
     "text": [
      "['BMW', 'Volkswagen', 'Mercedes', 'Ford', 'Toyota', 'Tesla', 'Kia', 'Porsche', 'Mazda', 'Honda', 'Jaguar', 'Mitsubishi', 'Audi', 'Bentley', 'Bugatti', 'Chrisler']\n"
     ]
    }
   ],
   "source": [
    "# code here\n",
    "car_brands.remove(\"Apple\")\n",
    "print(car_brands)"
   ]
  },
  {
   "cell_type": "markdown",
   "metadata": {},
   "source": [
    "3. Order alphabetically the `car_brands` list."
   ]
  },
  {
   "cell_type": "code",
   "execution_count": 36,
   "metadata": {},
   "outputs": [
    {
     "name": "stdout",
     "output_type": "stream",
     "text": [
      "['Audi', 'BMW', 'Bentley', 'Bugatti', 'Chrisler', 'Ford', 'Honda', 'Jaguar', 'Kia', 'Mazda', 'Mercedes', 'Mitsubishi', 'Porsche', 'Tesla', 'Toyota', 'Volkswagen']\n"
     ]
    }
   ],
   "source": [
    "# code here\n",
    "car_brands.sort()\n",
    "print(car_brands)"
   ]
  },
  {
   "cell_type": "markdown",
   "metadata": {},
   "source": [
    "4. There is a mistake in the list with fibonacci sequence: fix it."
   ]
  },
  {
   "cell_type": "code",
   "execution_count": 38,
   "metadata": {},
   "outputs": [
    {
     "name": "stdout",
     "output_type": "stream",
     "text": [
      "[0, 1, 1, 2, 3, 5, 8, 13, 21, 34, 55, 89, 144]\n"
     ]
    }
   ],
   "source": [
    "# code here - there is no python method to replace an element - I used list comprehension here\n",
    "correct_fibonacci = [55 if num == 53 else num for num in fibonacci]\n",
    "print(correct_fibonacci)"
   ]
  },
  {
   "cell_type": "markdown",
   "metadata": {},
   "source": [
    "5. Order descendingly the `fibonacci` list."
   ]
  },
  {
   "cell_type": "code",
   "execution_count": 42,
   "metadata": {},
   "outputs": [
    {
     "name": "stdout",
     "output_type": "stream",
     "text": [
      "[144, 89, 55, 34, 21, 13, 8, 5, 3, 2, 1, 1, 0]\n"
     ]
    }
   ],
   "source": [
    "# code here\n",
    "correct_fibonacci.sort(reverse=True)\n",
    "print(correct_fibonacci)"
   ]
  },
  {
   "cell_type": "markdown",
   "metadata": {},
   "source": [
    "6. Add \"Hagrid\" and \"Dumbledore\" to the first list inside the `characters` list."
   ]
  },
  {
   "cell_type": "code",
   "execution_count": 46,
   "metadata": {},
   "outputs": [
    {
     "name": "stdout",
     "output_type": "stream",
     "text": [
      "[['Harry', 'Hermoine', 'Ron', 'Hagrid', 'Dumbledore'], ['Daenerys Targaryen', 'Jon Snow', 'Tyrion Lannister', 'Cercei Lannister', 'Arya Stark', 'Sansa Stark'], ['Aragorn', 'Gandalf', 'Frodo', 'Legolas', 'Gollum', 'Gimli'], ['Walter White', 'Jesse Pinkman', 'Gus Fring']]\n"
     ]
    }
   ],
   "source": [
    "# code here - use extend to add elements of a list (or any iterable) to the end of the current list\n",
    "characters[0].extend([\"Hagrid\", \"Dumbledore\"])\n",
    "print(characters)"
   ]
  },
  {
   "cell_type": "markdown",
   "metadata": {},
   "source": [
    "7. Add the `sex_and_the_city` list in the `characters` list."
   ]
  },
  {
   "cell_type": "code",
   "execution_count": 50,
   "metadata": {},
   "outputs": [
    {
     "name": "stdout",
     "output_type": "stream",
     "text": [
      "[['Harry', 'Hermoine', 'Ron'], ['Daenerys Targaryen', 'Jon Snow', 'Tyrion Lannister', 'Cercei Lannister', 'Arya Stark', 'Sansa Stark'], ['Aragorn', 'Gandalf', 'Frodo', 'Legolas', 'Gollum', 'Gimli'], ['Walter White', 'Jesse Pinkman', 'Gus Fring'], ['Carrie', 'Samantha', 'Charlotte', 'Miranda']]\n"
     ]
    }
   ],
   "source": [
    "# code here - use append to add an element at the end of the list\n",
    "characters.append(sex_and_the_city)\n",
    "print(characters)"
   ]
  },
  {
   "cell_type": "markdown",
   "metadata": {},
   "source": [
    "8. Remove all elements from the `sex_and_the_city` list."
   ]
  },
  {
   "cell_type": "code",
   "execution_count": 51,
   "metadata": {},
   "outputs": [
    {
     "name": "stdout",
     "output_type": "stream",
     "text": [
      "[]\n"
     ]
    }
   ],
   "source": [
    "# code here\n",
    "sex_and_the_city = []\n",
    "print(sex_and_the_city)"
   ]
  },
  {
   "cell_type": "markdown",
   "metadata": {},
   "source": [
    "9. Sum all elements in the `numbers` list."
   ]
  },
  {
   "cell_type": "code",
   "execution_count": 3,
   "metadata": {},
   "outputs": [
    {
     "name": "stdout",
     "output_type": "stream",
     "text": [
      "5312\n"
     ]
    }
   ],
   "source": [
    "# code here\n",
    "print(sum(numbers))   "
   ]
  },
  {
   "cell_type": "markdown",
   "metadata": {},
   "source": [
    "10. Find out how many times does the number `77` appear in the `numbers` list."
   ]
  },
  {
   "cell_type": "code",
   "execution_count": 4,
   "metadata": {},
   "outputs": [
    {
     "name": "stdout",
     "output_type": "stream",
     "text": [
      "4\n"
     ]
    }
   ],
   "source": [
    "# code here\n",
    "print(numbers.count(77))"
   ]
  },
  {
   "cell_type": "markdown",
   "metadata": {},
   "source": [
    "### For loops\n",
    "\n",
    "Whenever you want to apply any transformation to all elements in a list, you iterate through them with a `for` loop."
   ]
  },
  {
   "cell_type": "code",
   "execution_count": 5,
   "metadata": {},
   "outputs": [
    {
     "name": "stdout",
     "output_type": "stream",
     "text": [
      "Hello Justine!\n",
      "Hello Amabel!\n",
      "Hello Karl!\n"
     ]
    }
   ],
   "source": [
    "names_list = [\"Justine\", \"Amabel\", \"Karl\"]\n",
    "\n",
    "for name in names_list:\n",
    "    print(\"Hello \" + name + \"!\")"
   ]
  },
  {
   "cell_type": "markdown",
   "metadata": {},
   "source": [
    "Here, the word `name` could really be anything. It is just a placeholder that takes the value of each element in the for loop in every sucessive iteration, until the loop reaches the end of the list. Using a diferent name does not change the result:"
   ]
  },
  {
   "cell_type": "code",
   "execution_count": 6,
   "metadata": {},
   "outputs": [
    {
     "name": "stdout",
     "output_type": "stream",
     "text": [
      "Hello Justine!\n",
      "Hello Amabel!\n",
      "Hello Karl!\n"
     ]
    }
   ],
   "source": [
    "for dinosaur in names_list:\n",
    "    print(\"Hello \" + dinosaur + \"!\")"
   ]
  },
  {
   "cell_type": "markdown",
   "metadata": {},
   "source": [
    "Replicate the same greeting loop, but using the f-strings that you learned in the previous lesson:"
   ]
  },
  {
   "cell_type": "code",
   "execution_count": 7,
   "metadata": {},
   "outputs": [
    {
     "name": "stdout",
     "output_type": "stream",
     "text": [
      "Hello Justine!\n",
      "Hello Amabel!\n",
      "Hello Karl!\n"
     ]
    }
   ],
   "source": [
    "# code here\n",
    "for name in names_list:\n",
    "    print(f\"Hello {name}!\")"
   ]
  },
  {
   "cell_type": "markdown",
   "metadata": {},
   "source": [
    "If we wanted to store the resulting transformations of our loop into a new list, we would define an empty list first, and then `append()` all the elements as we iterate through the loop:"
   ]
  },
  {
   "cell_type": "code",
   "execution_count": 8,
   "metadata": {},
   "outputs": [],
   "source": [
    "greetings = []\n",
    "\n",
    "for name in names_list:\n",
    "    greetings.append(\"Hello \" + name + \"!\")"
   ]
  },
  {
   "cell_type": "code",
   "execution_count": 9,
   "metadata": {},
   "outputs": [
    {
     "data": {
      "text/plain": [
       "['Hello Justine!', 'Hello Amabel!', 'Hello Karl!']"
      ]
     },
     "execution_count": 9,
     "metadata": {},
     "output_type": "execute_result"
    }
   ],
   "source": [
    "greetings"
   ]
  },
  {
   "cell_type": "markdown",
   "metadata": {},
   "source": [
    "**Exercise:** \n",
    "\n",
    "1. Create a List named `lower_names` with all the names of the students in your batch. Include name and surname, all in lowercase (like `john doe`)."
   ]
  },
  {
   "cell_type": "code",
   "execution_count": 10,
   "metadata": {},
   "outputs": [],
   "source": [
    "# code here\n",
    "lower_names = [\"akbar huseynov\", \"anand jain\", \"andreas ueberschaer\", \"christiaan van der veen\", \"dónal ó flanagáin\", \"hana lacic\", \"ilda ludwig\", \"konstantinos kontovas\", \n",
    "               \"kristina kunze\", \"mahsa banadkooki\", \"ranjit sah\", \"rias nazary\", \"sabrina marano\", \"sandrine lefort\", \"sevgi akdeniz\"]"
   ]
  },
  {
   "cell_type": "markdown",
   "metadata": {},
   "source": [
    "2. Create a new list `capital_names`  with both the names and surnames capitalized (like `John Doe`), by iterating through the first list with a `for` loop."
   ]
  },
  {
   "cell_type": "code",
   "execution_count": 12,
   "metadata": {},
   "outputs": [
    {
     "name": "stdout",
     "output_type": "stream",
     "text": [
      "['Akbar Huseynov', 'Anand Jain', 'Andreas Ueberschaer', 'Christiaan Van Der Veen', 'Dónal Ó Flanagáin', 'Hana Lacic', 'Ilda Nachname', 'Konstantinos Kontovas', 'Kristina Kunze', 'Mahsa Banadkooki', 'Ranjit Sah', 'Rias Nazary', 'Sabrina Marano', 'Sandrine Lefort', 'Sevgi Akdeniz']\n"
     ]
    }
   ],
   "source": [
    "# code here\n",
    "capital_names = []\n",
    "for name in lower_names:\n",
    "    capital_names.append(name.title())\n",
    "print(capital_names)    "
   ]
  },
  {
   "cell_type": "markdown",
   "metadata": {},
   "source": [
    "### Conditions with `if`\n",
    "\n",
    "Whenever you want to do something only if a condition is met, you will need an `if` statement. Let's say we want to greet people only if their name starts with \"A\". We will add a few more names to our list:"
   ]
  },
  {
   "cell_type": "code",
   "execution_count": 13,
   "metadata": {},
   "outputs": [],
   "source": [
    "names_list = [\"Justine\", \"Amabel\", \"Karl\", \"Anna\", \"Lina\", \"Sergei\", \"Magnus\", \"Aurora\"]"
   ]
  },
  {
   "cell_type": "markdown",
   "metadata": {},
   "source": [
    "We can check one by one whether they start with \"A\" by selecting them from the list by their position using `[]`, and using the string method you already learned `starts_with()`:"
   ]
  },
  {
   "cell_type": "code",
   "execution_count": 15,
   "metadata": {},
   "outputs": [
    {
     "name": "stdout",
     "output_type": "stream",
     "text": [
      "False\n",
      "True\n"
     ]
    }
   ],
   "source": [
    "# Justine\n",
    "print(names_list[0].startswith(\"A\"))\n",
    "\n",
    "# Amabel\n",
    "print(names_list[1].startswith(\"A\"))"
   ]
  },
  {
   "cell_type": "markdown",
   "metadata": {},
   "source": [
    "These booleans, `True` or `False`, are exactly what `if` statements need. Whenever a condition is true, the code below the `if` statement runs; if the condition is false, the code is skipped and nothing happens:"
   ]
  },
  {
   "cell_type": "code",
   "execution_count": 14,
   "metadata": {},
   "outputs": [
    {
     "name": "stdout",
     "output_type": "stream",
     "text": [
      "yay\n"
     ]
    }
   ],
   "source": [
    "condition = True\n",
    "\n",
    "if condition:\n",
    "    print(\"yay\")"
   ]
  },
  {
   "cell_type": "code",
   "execution_count": 16,
   "metadata": {},
   "outputs": [],
   "source": [
    "condition = False\n",
    "\n",
    "if condition:\n",
    "    print(\"yay\")"
   ]
  },
  {
   "cell_type": "markdown",
   "metadata": {},
   "source": [
    "So we can now tie everything together:\n",
    "\n",
    "- A for loop that iterates through the names.\n",
    "\n",
    "- An `if` statment that checks whether the name starts with \"A\".\n",
    "\n",
    "- A greeting."
   ]
  },
  {
   "cell_type": "code",
   "execution_count": 17,
   "metadata": {},
   "outputs": [
    {
     "name": "stdout",
     "output_type": "stream",
     "text": [
      "Hello Amabel!\n",
      "Hello Anna!\n",
      "Hello Aurora!\n"
     ]
    }
   ],
   "source": [
    "for name in names_list:\n",
    "    if name.startswith(\"A\"):\n",
    "        print(\"Hello \" + name + \"!\")"
   ]
  },
  {
   "cell_type": "markdown",
   "metadata": {},
   "source": [
    "An `else` statement can be added if you want to do something witht the elements that did not meet the condition. \n",
    "\n",
    "After the `if` and the `else` statements, you can continue coding normally —and the code will run independently of any conditions. Here, we print some text and a line break:"
   ]
  },
  {
   "cell_type": "code",
   "execution_count": 22,
   "metadata": {},
   "outputs": [
    {
     "name": "stdout",
     "output_type": "stream",
     "text": [
      "Bye Justine!\n",
      "next iteration incoming... \n",
      "\n",
      "Hello Amabel!\n",
      "next iteration incoming... \n",
      "\n",
      "Bye Karl!\n",
      "next iteration incoming... \n",
      "\n",
      "Hello Anna!\n",
      "next iteration incoming... \n",
      "\n",
      "Bye Lina!\n",
      "next iteration incoming... \n",
      "\n",
      "Bye Sergei!\n",
      "next iteration incoming... \n",
      "\n",
      "Bye Magnus!\n",
      "next iteration incoming... \n",
      "\n",
      "Hello Aurora!\n",
      "next iteration incoming... \n",
      "\n"
     ]
    }
   ],
   "source": [
    "for name in names_list:\n",
    "    if name.startswith(\"A\"):\n",
    "        print(\"Hello \" + name + \"!\")\n",
    "    else:\n",
    "        print(\"Bye \" + name + \"!\") \n",
    "    print(\"next iteration incoming... \\n\")"
   ]
  },
  {
   "cell_type": "markdown",
   "metadata": {},
   "source": [
    "**Exercise:** In the previous code, the \"next iteration incoming...\" text gets printed also for the last iteration, which might be confusing for whoever is reading the output of this code. Tweak the code so that this text only gets printed if we are not in the last element of our list.\n",
    "\n",
    "**Tip**: it is totally normal if you don't know how to approach this exercise right away. You might need to use something we have not seeen in this lesson or the previous one. Google is your friend! If you are stuck for a long time (above 30 min), and have already tried many things, it's time to ask for help to your instructor."
   ]
  },
  {
   "cell_type": "code",
   "execution_count": 21,
   "metadata": {},
   "outputs": [
    {
     "name": "stdout",
     "output_type": "stream",
     "text": [
      "Bye Justine!\n",
      "next iteration incoming... \n",
      "\n",
      "Hello Amabel!\n",
      "next iteration incoming... \n",
      "\n",
      "Bye Karl!\n",
      "next iteration incoming... \n",
      "\n",
      "Hello Anna!\n",
      "next iteration incoming... \n",
      "\n",
      "Bye Lina!\n",
      "next iteration incoming... \n",
      "\n",
      "Bye Sergei!\n",
      "next iteration incoming... \n",
      "\n",
      "Bye Magnus!\n",
      "next iteration incoming... \n",
      "\n",
      "Hello Aurora!\n"
     ]
    }
   ],
   "source": [
    "# code here - use a variable for the position in the list that increases in every step, only print \"next iteration coming\" when position is not at the last element\n",
    "pos = -1\n",
    "for name in names_list:\n",
    "    if name.startswith(\"A\"):\n",
    "        print(\"Hello \" + name + \"!\")\n",
    "    else:\n",
    "        print(\"Bye \" + name + \"!\") \n",
    "    pos += 1\n",
    "    if pos != len(names_list) -1:\n",
    "        print(\"next iteration incoming... \\n\")"
   ]
  },
  {
   "cell_type": "markdown",
   "metadata": {},
   "source": [
    "### Bonus exercises\n",
    "\n",
    "1. Implement the for loop that greets people for the `characters` list you used in the previous exercises. For now, do not include any condition —just say hello to every character. What do you need to do to iterate through lists inside a list?"
   ]
  },
  {
   "cell_type": "code",
   "execution_count": 23,
   "metadata": {},
   "outputs": [
    {
     "name": "stdout",
     "output_type": "stream",
     "text": [
      "Hello Harry!\n",
      "Hello Hermoine!\n",
      "Hello Ron!\n",
      "Hello Daenerys Targaryen!\n",
      "Hello Jon Snow!\n",
      "Hello Tyrion Lannister!\n",
      "Hello Cercei Lannister!\n",
      "Hello Arya Stark!\n",
      "Hello Sansa Stark!\n",
      "Hello Aragorn!\n",
      "Hello Gandalf!\n",
      "Hello Frodo!\n",
      "Hello Legolas!\n",
      "Hello Gollum!\n",
      "Hello Gimli!\n",
      "Hello Walter White!\n",
      "Hello Jesse Pinkman!\n",
      "Hello Gus Fring!\n"
     ]
    }
   ],
   "source": [
    "# code here\n",
    "for clist in characters:\n",
    "    for name in clist:\n",
    "        print(\"Hello \" + name + \"!\")"
   ]
  },
  {
   "cell_type": "markdown",
   "metadata": {},
   "source": [
    "2. Tweak the code of the previous exercise to greet characters based on these conditions:\n",
    "\n",
    "- If their name is composed of two words (Name Surname), the greeting should be \"Hello Name, from the house of Surname\".\n",
    "\n",
    "- If their name is shorter than 6 characters, the greeting should replicate the last letter of the name as many times as needed until it reaches 6 characters."
   ]
  },
  {
   "cell_type": "code",
   "execution_count": 7,
   "metadata": {
    "tags": []
   },
   "outputs": [
    {
     "name": "stdout",
     "output_type": "stream",
     "text": [
      "Hello Harryy!\n",
      "Hello Hermoine!\n",
      "Hello Ronnnn!\n",
      "Hello Daenerys from the house of Targaryen!\n",
      "Hello Jonnnn from the house of Snow!\n",
      "Hello Tyrion from the house of Lannister!\n",
      "Hello Cercei from the house of Lannister!\n",
      "Hello Aryaaa from the house of Stark!\n",
      "Hello Sansaa from the house of Stark!\n",
      "Hello Aragorn!\n",
      "Hello Gandalf!\n",
      "Hello Frodoo!\n",
      "Hello Legolas!\n",
      "Hello Gollum!\n",
      "Hello Gimlii!\n",
      "Hello Walter from the house of White!\n",
      "Hello Jessee from the house of Pinkman!\n",
      "Hello Gussss from the house of Fring!\n"
     ]
    }
   ],
   "source": [
    "# code here\n",
    "\n",
    "for clist in characters: \n",
    "    for name in clist:\n",
    "        split_list = name.split(\" \")\n",
    "        if len(split_list[0]) < 6:\n",
    "                split_list[0]=split_list[0].ljust(6, split_list[0][-1])\n",
    "        if len(split_list) > 1:\n",
    "            print(\"Hello \" + split_list[0] + \" from the house of \" + split_list[1] + \"!\")\n",
    "        else:\n",
    "            print(\"Hello \" + split_list[0] + \"!\")"
   ]
  },
  {
   "cell_type": "markdown",
   "metadata": {},
   "source": [
    "## Additional examples with lists\n",
    "\n",
    "also see https://towardsdatascience.com/a-complete-guide-to-python-lists-6b592c8d5707"
   ]
  },
  {
   "cell_type": "code",
   "execution_count": 1,
   "metadata": {},
   "outputs": [
    {
     "name": "stdout",
     "output_type": "stream",
     "text": [
      "['data', 'science', 'rocks']\n"
     ]
    }
   ],
   "source": [
    "#example of sorting a list by a defined custom order using a function\n",
    "integer_list = [1,2,3,1,8,1]\n",
    "string_list = ['science', 'rocks', 'data']\n",
    "\n",
    "#returns the second character of each string element as basis for sorting\n",
    "def second_char(string_element):\n",
    "    return string_element[1]\n",
    "\n",
    "string_list.sort(key=second_char, reverse = False)\n",
    "print(string_list)"
   ]
  }
 ],
 "metadata": {
  "kernelspec": {
   "display_name": "Python 3",
   "language": "python",
   "name": "python3"
  },
  "language_info": {
   "codemirror_mode": {
    "name": "ipython",
    "version": 3
   },
   "file_extension": ".py",
   "mimetype": "text/x-python",
   "name": "python",
   "nbconvert_exporter": "python",
   "pygments_lexer": "ipython3",
   "version": "3.8.8"
  }
 },
 "nbformat": 4,
 "nbformat_minor": 4
}
